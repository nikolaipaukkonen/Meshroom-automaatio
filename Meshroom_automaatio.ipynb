{
  "nbformat": 4,
  "nbformat_minor": 0,
  "metadata": {
    "colab": {
      "provenance": [],
      "authorship_tag": "ABX9TyMCpcuD7r1Ph157QAqXpYyc",
      "include_colab_link": true
    },
    "kernelspec": {
      "name": "python3",
      "display_name": "Python 3"
    },
    "language_info": {
      "name": "python"
    },
    "accelerator": "GPU",
    "gpuClass": "standard"
  },
  "cells": [
    {
      "cell_type": "markdown",
      "metadata": {
        "id": "view-in-github",
        "colab_type": "text"
      },
      "source": [
        "<a href=\"https://colab.research.google.com/github/nikolaipaukkonen/Meshroom-automaatio/blob/main/Meshroom_automaatio.ipynb\" target=\"_parent\"><img src=\"https://colab.research.google.com/assets/colab-badge.svg\" alt=\"Open In Colab\"/></a>"
      ]
    },
    {
      "cell_type": "markdown",
      "source": [
        "#Meshroom pilvessä\n",
        "Ajamalla tämän Google Colab Notebookin voit laskettaa itsellesi .obj-muotoisen fotogrammetriamallin Google Drivessä olevan valokuvakansion perusteella. Käyttääksesi tarvitset\n",
        "- Google-käyttäjän ja driven\n",
        "- .jpg-muotoisia valokuvia kohteesta, josta malli tehdään\n",
        "\n",
        "Varmista aluksi yläpalkin Runtime->Change runtime type -valikosta, että runtime type on GPU. Kun olet ladannut Google Drive -kansiosi Colabiin, voit avata sen ja hakea kuvien polun vasemmalla olevasta palkista (kansion kuva). Kun löydät oikean kansion, klikkaa sitä oikealla ja valitse Copy path. \n",
        "\n",
        "Koodisoluja ajetaan niiden vasemmassa yläkulmassa olevista hakasulkeista klikkaamalla. Solun alle tulostuvat virheilmoitukset, prosessitiedot yms. Mikäli jokin menee pieleen, tarkista aluksi polut (erityisesti --input-kohdassa). \n",
        "\n",
        "Viimeinen solu pakkaa mallin ja lataa sen. Mallia voi tarkastella esimerkiksi CloudComparella, Blenderillä tai Meshlabilla.\n"
      ],
      "metadata": {
        "id": "IZmeRilmvW6m"
      }
    },
    {
      "cell_type": "code",
      "metadata": {
        "id": "Fn4dL7Sl8Fca"
      },
      "source": [
        "import tensorflow as tf\n",
        "from sys import exit\n",
        "device_name = tf.test.gpu_device_name()\n",
        "if device_name != '/device:GPU:0':\n",
        "  raise SystemError('GPU:ta ei löytynyt. Tarkista Runtime-asetukset')\n",
        "print('Löydetty GPU: {}'.format(device_name))"
      ],
      "execution_count": null,
      "outputs": []
    },
    {
      "cell_type": "code",
      "execution_count": null,
      "metadata": {
        "id": "YcIOWJ2H1UHe"
      },
      "outputs": [],
      "source": [
        "from google.colab import drive\n",
        "drive.mount('/content/drive')"
      ]
    },
    {
      "cell_type": "code",
      "source": [
        "!wget https://github.com/alicevision/meshroom/releases/download/v2021.1.0/Meshroom-2021.1.0-linux-cuda10.tar.gz\n",
        "!mkdir Meshroom\n",
        "!tar xzf Meshroom-2021.1.0-linux-cuda10.tar.gz -C ./Meshroom"
      ],
      "metadata": {
        "id": "xbpmq81mBGEF"
      },
      "execution_count": null,
      "outputs": []
    },
    {
      "cell_type": "code",
      "source": [
        "!mkdir valmis_malli\n",
        "!./Meshroom/Meshroom-2021.1.0-av2.4.0-centos7-cuda10.2/meshroom_batch --inputRecursive .VAIHDA_TÄHÄN_POLKU_VALOKUVAKANSIOON --output ./valmis_malli "
      ],
      "metadata": {
        "id": "ZG5xbM7CBydp"
      },
      "execution_count": null,
      "outputs": []
    },
    {
      "cell_type": "code",
      "source": [
        "from google.colab import files\n",
        "!zip -r valmis_malli.zip ./valmis_malli\n",
        "files.download('valmis_malli.zip')"
      ],
      "metadata": {
        "id": "SktY8hSCF6x5"
      },
      "execution_count": null,
      "outputs": []
    }
  ]
}
