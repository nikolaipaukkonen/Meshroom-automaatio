{
  "nbformat": 4,
  "nbformat_minor": 0,
  "metadata": {
    "colab": {
      "provenance": [],
      "authorship_tag": "ABX9TyOf4FgXlSPbJuhZmKuLurnN",
      "include_colab_link": true
    },
    "kernelspec": {
      "name": "python3",
      "display_name": "Python 3"
    },
    "language_info": {
      "name": "python"
    },
    "accelerator": "GPU",
    "gpuClass": "standard"
  },
  "cells": [
    {
      "cell_type": "markdown",
      "metadata": {
        "id": "view-in-github",
        "colab_type": "text"
      },
      "source": [
        "<a href=\"https://colab.research.google.com/github/nikolaipaukkonen/Meshroom-automaatio/blob/main/Meshroom_automaatio.ipynb\" target=\"_parent\"><img src=\"https://colab.research.google.com/assets/colab-badge.svg\" alt=\"Open In Colab\"/></a>"
      ]
    },
    {
      "cell_type": "code",
      "metadata": {
        "id": "Fn4dL7Sl8Fca"
      },
      "source": [
        "import tensorflow as tf\n",
        "from sys import exit\n",
        "device_name = tf.test.gpu_device_name()\n",
        "if device_name != '/device:GPU:0':\n",
        "  raise SystemError('GPU device not found')\n",
        "print('Found GPU at: {}'.format(device_name))"
      ],
      "execution_count": null,
      "outputs": []
    },
    {
      "cell_type": "code",
      "execution_count": null,
      "metadata": {
        "id": "YcIOWJ2H1UHe"
      },
      "outputs": [],
      "source": [
        "from google.colab import drive\n",
        "drive.mount('/content/drive')"
      ]
    },
    {
      "cell_type": "code",
      "source": [
        "!wget https://github.com/alicevision/meshroom/releases/download/v2021.1.0/Meshroom-2021.1.0-linux-cuda10.tar.gz\n",
        "print(1)\n",
        "!mkdir Meshroom\n",
        "print(2)\n",
        "!tar xzf Meshroom-2021.1.0-linux-cuda10.tar.gz -C ./Meshroom"
      ],
      "metadata": {
        "id": "xbpmq81mBGEF"
      },
      "execution_count": null,
      "outputs": []
    },
    {
      "cell_type": "code",
      "source": [
        "!mkdir valmis_malli\n",
        "!ls /content/drive/MyDrive/Pompeion/\n",
        "!./Meshroom/Meshroom-2021.1.0-av2.4.0-centos7-cuda10.2/meshroom_batch --inputRecursive ./drive/MyDrive/Pompeion/ --output ./valmis_malli "
      ],
      "metadata": {
        "id": "ZG5xbM7CBydp"
      },
      "execution_count": null,
      "outputs": []
    },
    {
      "cell_type": "code",
      "source": [
        "from google.colab import files\n",
        "!zip -r valmis_malli.zip ./valmis_malli\n",
        "files.download('valmis_malli.zip')"
      ],
      "metadata": {
        "id": "SktY8hSCF6x5"
      },
      "execution_count": null,
      "outputs": []
    }
  ]
}